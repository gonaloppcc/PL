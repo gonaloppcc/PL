{
 "cells": [
  {
   "cell_type": "markdown",
   "metadata": {},
   "source": [
    "# Problema 1: Alien username"
   ]
  },
  {
   "cell_type": "markdown",
   "metadata": {},
   "source": [
    "## Restrições\n",
    "- Tem de começar com _ ou .\n",
    "- De seguida, 1 ou + digitos.\n",
    "- Depois, 3 ou + letras.\n",
    "- Pode acabar com _ ou letra."
   ]
  },
  {
   "cell_type": "code",
   "execution_count": 2,
   "metadata": {},
   "outputs": [],
   "source": [
    "import re\n",
    "\n",
    "expr = re.compile(r\"^[_.]\\d+[a-zA-Z]{3,}_?$\")"
   ]
  },
  {
   "cell_type": "markdown",
   "metadata": {},
   "source": [
    "## Restrições\n",
    "- Tem de começar com _ ou .\n",
    "- De seguida, 1 ou + digitos.\n",
    "- Depois, 3 ou + letras.\n",
    "- Pode aparecer qq coisa\n",
    "- Pode acabar com _ ou letra."
   ]
  },
  {
   "cell_type": "code",
   "execution_count": null,
   "metadata": {},
   "outputs": [],
   "source": [
    "expr = re.compile(r\"[_.]\\d+[a-zA-Z]{3,}.*_?\")"
   ]
  },
  {
   "cell_type": "markdown",
   "metadata": {},
   "source": [
    "> `uma?` é equivalente a `(um|uma)` porem no segundo caso ele procuraria um primeiro, é menos eficiente.\n",
    "Pois os operadores são gready. Tentam sempre apanhar o maximo possível.\n",
    "\n",
    "### Exemplo"
   ]
  },
  {
   "cell_type": "markdown",
   "metadata": {},
   "source": [
    "Texto exemplo: `\"Pedro\" + \"Moura\"`\n",
    "\n",
    "Versão gready: `\".*\"`\n",
    "\n",
    "Versões não gready: \n",
    "- `\"[^\"]\"`\n",
    "- `\".*?\"`"
   ]
  },
  {
   "cell_type": "markdown",
   "metadata": {},
   "source": [
    "### Fechos\n",
    "\n",
    "- Transitivo +\n",
    "\n",
    "- Clean *"
   ]
  }
 ],
 "metadata": {
  "interpreter": {
   "hash": "2be5faf79681da6f2a61fdfdd5405d65d042280f7fba6178067603e3a2925119"
  },
  "kernelspec": {
   "display_name": "Python 3.10.2 64-bit",
   "language": "python",
   "name": "python3"
  },
  "language_info": {
   "codemirror_mode": {
    "name": "ipython",
    "version": 3
   },
   "file_extension": ".py",
   "mimetype": "text/x-python",
   "name": "python",
   "nbconvert_exporter": "python",
   "pygments_lexer": "ipython3",
   "version": "3.10.2"
  },
  "orig_nbformat": 4
 },
 "nbformat": 4,
 "nbformat_minor": 2
}
