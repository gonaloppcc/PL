{
 "cells": [
  {
   "cell_type": "markdown",
   "metadata": {},
   "source": [
    "# Problema 0 resolução"
   ]
  },
  {
   "cell_type": "markdown",
   "metadata": {},
   "source": [
    "> O objetivo deste primeiro exercício é duplo. Por um lado, pretende-se que explore o conceito de Expressão Regular\n",
    "(RE) e seus operadores (básicos ou estendidos) para descrever padrões de texto; por outro lado, pretende-se que recorra\n",
    "ao módulo ’re’ do Python para pesquisar a ocorrência de strings dentro de uma linha que obedeçam a cada um dos\n",
    "seguintes padrões (para facilitar o trabalho explore os programas anexos ’basic0.py’ a ’basic5a.py’):"
   ]
  },
  {
   "cell_type": "code",
   "execution_count": 50,
   "metadata": {},
   "outputs": [],
   "source": [
    "import re"
   ]
  },
  {
   "cell_type": "markdown",
   "metadata": {},
   "source": [
    "##### Definição de uma função para dar *match* com as linhas de um texto"
   ]
  },
  {
   "cell_type": "code",
   "execution_count": 51,
   "metadata": {},
   "outputs": [],
   "source": [
    "def recon(text: str, re_expr: re.Pattern, output=True):\n",
    "    lines = text.split()\n",
    "    matches = []\n",
    "\n",
    "    for line in lines:\n",
    "        m = re_expr.search(line)\n",
    "\n",
    "        if m:\n",
    "            if output:\n",
    "                print(f\"Match found: {m}.\\nIn line: {line}\")\n",
    "            matches.append(m)\n",
    "\n",
    "        else:\n",
    "            if output:\n",
    "                print('Not matches found.')\n",
    "\n",
    "    return matches\n",
    "\n",
    "\n",
    "\n",
    "        \n"
   ]
  },
  {
   "cell_type": "markdown",
   "metadata": {},
   "source": [
    "1. a palavra ’hello’ no início da linha (basic0)"
   ]
  },
  {
   "cell_type": "code",
   "execution_count": 52,
   "metadata": {},
   "outputs": [],
   "source": [
    "expr = re.compile(r'^hello')"
   ]
  },
  {
   "cell_type": "code",
   "execution_count": 53,
   "metadata": {},
   "outputs": [
    {
     "name": "stdout",
     "output_type": "stream",
     "text": [
      "Printing the matched groups...\n",
      "hello\n",
      "hello\n"
     ]
    }
   ],
   "source": [
    "p0 = 'helloooo\\nhello\\nhell\\naaaahello' # Test text for problem 0 \n",
    "\n",
    "matches = recon(p0, expr, output=False)\n",
    "\n",
    "print('Printing the matched groups...')\n",
    "for m in matches:\n",
    "    print(m.group())"
   ]
  },
  {
   "cell_type": "markdown",
   "metadata": {},
   "source": [
    "2. a palavra ’hello’ em qualquer posição da linha (basic1)"
   ]
  },
  {
   "cell_type": "code",
   "execution_count": 55,
   "metadata": {},
   "outputs": [],
   "source": [
    "expr = re.compile(r'hello')"
   ]
  },
  {
   "cell_type": "code",
   "execution_count": 57,
   "metadata": {},
   "outputs": [
    {
     "name": "stdout",
     "output_type": "stream",
     "text": [
      "Printing the matched groups...\n",
      "hello\n",
      "hello\n",
      "hello\n"
     ]
    }
   ],
   "source": [
    "p1 = 'helloooo\\nhheelllooo\\nhllo\\nhhhheelllo' # Test text for problem 1 \n",
    "\n",
    "matches = recon(p1, expr, output=False)\n",
    "\n",
    "print('Printing the matched groups...')\n",
    "for m in matches:\n",
    "    print(m.group())\n"
   ]
  },
  {
   "cell_type": "markdown",
   "metadata": {},
   "source": [
    "3. todas as ocorrências da palavra ’hello’ dentro da linha, admitindo que a palavra seja escrita com maiúsculas\n",
    "ou minúsculas (basic2)"
   ]
  },
  {
   "cell_type": "code",
   "execution_count": 62,
   "metadata": {},
   "outputs": [],
   "source": [
    "expr = re.compile(r'(h|H)(e|E)(l|L){2}(o|O)')"
   ]
  },
  {
   "cell_type": "code",
   "execution_count": 63,
   "metadata": {},
   "outputs": [
    {
     "name": "stdout",
     "output_type": "stream",
     "text": [
      "Printing the matched groups...\n",
      "hello\n",
      "HeLLo\n",
      "HELLO\n"
     ]
    }
   ],
   "source": [
    "p3 = 'helloooo\\nHeLLo\\nhllo\\nHELLO' # Test text for problem 3\n",
    "\n",
    "matches = recon(p3, expr, output=False)\n",
    "\n",
    "print('Printing the matched groups...')\n",
    "for m in matches:\n",
    "    print(m.group())"
   ]
  },
  {
   "cell_type": "markdown",
   "metadata": {},
   "source": [
    "4. todas as ocorrências da palavra ’hello’ dentro da linha substituindo cada uma por ’*YEP*’ (basic3, basic4)"
   ]
  },
  {
   "cell_type": "code",
   "execution_count": 64,
   "metadata": {},
   "outputs": [],
   "source": [
    "expr = re.compile(r'hello')"
   ]
  },
  {
   "cell_type": "code",
   "execution_count": 67,
   "metadata": {},
   "outputs": [
    {
     "name": "stdout",
     "output_type": "stream",
     "text": [
      "Bye!ooo\n",
      "HeLLo\n",
      "hllo\n",
      "hhhhhhhhhhBye!oooooooooo\n"
     ]
    }
   ],
   "source": [
    "p4 = 'helloooo\\nHeLLo\\nhllo\\nhhhhhhhhhhhellooooooooooo' # Test text for problem 4\n",
    "\n",
    "repl = 'Bye!' # Replace string\n",
    "\n",
    "replaced = expr.sub(repl, p4)\n",
    "\n",
    "print(replaced)\n"
   ]
  },
  {
   "cell_type": "markdown",
   "metadata": {},
   "source": [
    "5. todas as ocorrências do carater vírgula, separando cada parte da linha por esse carater (basic5, basic5a)"
   ]
  },
  {
   "cell_type": "code",
   "execution_count": null,
   "metadata": {},
   "outputs": [],
   "source": [
    "expr = re.compile(r'')"
   ]
  }
 ],
 "metadata": {
  "interpreter": {
   "hash": "916dbcbb3f70747c44a77c7bcd40155683ae19c65e1c03b4aa3499c5328201f1"
  },
  "kernelspec": {
   "display_name": "Python 3.8.10 64-bit",
   "language": "python",
   "name": "python3"
  },
  "language_info": {
   "codemirror_mode": {
    "name": "ipython",
    "version": 3
   },
   "file_extension": ".py",
   "mimetype": "text/x-python",
   "name": "python",
   "nbconvert_exporter": "python",
   "pygments_lexer": "ipython3",
   "version": "3.8.10"
  },
  "orig_nbformat": 4
 },
 "nbformat": 4,
 "nbformat_minor": 2
}
