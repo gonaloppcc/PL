{
 "cells": [
  {
   "cell_type": "markdown",
   "metadata": {},
   "source": [
    "# Problema 3: Latitude e Longitude\n",
    "\n",
    "Dada uma lista de pares de coordenadas, latitude e longitude, supostamente válidos, especifica um filtro de texto que\n",
    "faz a sua verificação atendendo aos seguintes requisitos:\n",
    "• Cada par de coordenadas deverá seguir a forma: (X, Y ) onde X e Y são números decimais (parte inteira e uma\n",
    "parte decimal opcional);\n",
    "• O valor de X deverá estar entre −90 e +90;\n",
    "• O valor de Y deverá estar entre −180 e +180;\n",
    "• Quer X quer Y podem ser opcionalmente precedidos por um sinal + ou −;\n",
    "• Tem de haver um espa¸co entre Y e a vírgula precedente;\n",
    "• Não há espaço entre X e o parentesis precedente nem entre Y e o parentesis que se lhe segue;\n",
    "• Não poderá haver zeros desnecessários à esquerda nas partes inteiras."
   ]
  },
  {
   "cell_type": "markdown",
   "metadata": {},
   "source": [
    "### Exemplo de input:\n",
    "\n",
    "```\n",
    "1 (75, 180)\n",
    "\n",
    "2 (+90.0, -147.45)\n",
    "\n",
    "3 (77.11112223331, 149.99999999)\n",
    "\n",
    "4 (+90, +180)\n",
    "\n",
    "5 (90, 180)\n",
    "\n",
    "6 (-90.00000, -180.0000)\n",
    "\n",
    "7 (75, 280)\n",
    "\n",
    "8 (+190.0, -147.45)\n",
    "\n",
    "9 (77.11112223331, 249.99999999)\n",
    "\n",
    "10 (+90, +180.2)\n",
    "\n",
    "11 (90., 180.)\n",
    "\n",
    "12 (-090.00000, -180.0000)\n",
    "```\n",
    "\n",
    "### Exemplo de output:\n",
    "\n",
    "```\n",
    "1 Válido\n",
    "\n",
    "2 Válido\n",
    "\n",
    "3 Válido\n",
    "\n",
    "4 Válido\n",
    "\n",
    "5 Válido\n",
    "\n",
    "6 Válido\n",
    "\n",
    "7 Inválido\n",
    "\n",
    "8 Inválido\n",
    "\n",
    "9 Inválido\n",
    "\n",
    "10 Inválido\n",
    "\n",
    "11 Inválido\n",
    "\n",
    "12 Inválido\n",
    "```"
   ]
  },
  {
   "cell_type": "code",
   "execution_count": 2,
   "metadata": {},
   "outputs": [],
   "source": [
    "import re\n",
    "\n",
    "# (X, Y)\n",
    "expr = re.compile(r'^\\([+\\-]?\\d+(\\.\\d+)?,\\s[+\\-]?\\d+(\\.\\d+)?\\)$')\n",
    "\n",
    "# Apanha este caso que não queremos:\n",
    "# (-95, +24)\n",
    "\n",
    "# Falta limitar o X e o Y"
   ]
  }
 ],
 "metadata": {
  "interpreter": {
   "hash": "916dbcbb3f70747c44a77c7bcd40155683ae19c65e1c03b4aa3499c5328201f1"
  },
  "kernelspec": {
   "display_name": "Python 3.8.10 64-bit",
   "language": "python",
   "name": "python3"
  },
  "language_info": {
   "codemirror_mode": {
    "name": "ipython",
    "version": 3
   },
   "file_extension": ".py",
   "mimetype": "text/x-python",
   "name": "python",
   "nbconvert_exporter": "python",
   "pygments_lexer": "ipython3",
   "version": "3.8.10"
  },
  "orig_nbformat": 4
 },
 "nbformat": 4,
 "nbformat_minor": 2
}
