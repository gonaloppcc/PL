{
 "cells": [
  {
   "cell_type": "markdown",
   "metadata": {},
   "source": [
    "# Problema 2: Endereços IP"
   ]
  },
  {
   "cell_type": "markdown",
   "metadata": {},
   "source": [
    "> Dada uma lista de linhas em que cada uma deve conter um endere¸co IP, IPv4 ou IPv6, supostamente v´alido, desenvolva\n",
    "um filtro de texto que identifica o tipo de endere¸co IP ou acusa um erro.\n",
    "Os endere¸cos IPv4 foram os primeiros endere¸cos a serem usados na Internet e eram constitu´ıdos por 4 bytes. O formato\n",
    "normal ´e ”A.B.C.D”em que A, B, C e D s˜ao inteiros compreendidos entre 0 e 255 inclusive.\n",
    "O IPv4 limitava o n´umero de endere¸cos a um n´umero baixo para as necessidades de hoje em dia e assim surgiu o IPv6.\n",
    "Com 128 bits, veio permitir um maior espa¸co de endere¸camento. Os 128 bits dum endere¸co IPv6 s˜ao representados\n",
    "em 8 grupos de 16 bits cada um. Cada grupo ´e representado por 4 d´ıgitos hexadecimais e cada grupo ´e separado do\n",
    "seguinte por ’:’. Por exemplo: ”2001:0db8:0000:0000:0000:ff00:0042:8329”. Os zeros `a esquerda podem ser omitidos.\n",
    "Um endere¸co contendo ”...:0:...”ou ”...:5:...”´e idˆentico a ”...:0000:...”ou ”...:0005:....”.\n",
    "\n",
    "Exemplo de input:\n",
    "> Esta ´e uma linha de lixo.\n",
    "121.18.19.20\n",
    "2001:0db8:0000:0000:0000:ff00:0042:8329\n",
    "epl.di.uminho.pt 193.136.19.129\n",
    "\n",
    "Exemplo de output:\n",
    "\n",
    "> Erro\n",
    "IPv4\n",
    "IPv6\n",
    "Erro\n"
   ]
  },
  {
   "cell_type": "code",
   "execution_count": 2,
   "metadata": {},
   "outputs": [],
   "source": [
    "import re\n",
    "\n",
    "# IPv4\n",
    "ipv4 = re.compile(\n",
    "    r\"((2[0-4]\\d|25[0-5]|1\\d\\d|0?\\d\\d|0?0?\\d)\\.){3}(2[0-4]\\d|25[0-5]|[0-1]\\d\\d|0?\\d\\d|0?0?\\d)\")\n",
    "\n",
    "# Não funciona para o caso:\n",
    "# 125.123.215.2"
   ]
  },
  {
   "cell_type": "code",
   "execution_count": 3,
   "metadata": {},
   "outputs": [],
   "source": [
    "# IPv6\n",
    "ipv6 = re.compile(\n",
    "    r\"([\\da-f]{1,4}:){7}([\\da-f]{0,4})\"\n",
    ")\n",
    "# Assumo que só aparecem letras minusculas. "
   ]
  }
 ],
 "metadata": {
  "interpreter": {
   "hash": "916dbcbb3f70747c44a77c7bcd40155683ae19c65e1c03b4aa3499c5328201f1"
  },
  "kernelspec": {
   "display_name": "Python 3.8.10 64-bit",
   "language": "python",
   "name": "python3"
  },
  "language_info": {
   "codemirror_mode": {
    "name": "ipython",
    "version": 3
   },
   "file_extension": ".py",
   "mimetype": "text/x-python",
   "name": "python",
   "nbconvert_exporter": "python",
   "pygments_lexer": "ipython3",
   "version": "3.8.10"
  },
  "orig_nbformat": 4
 },
 "nbformat": 4,
 "nbformat_minor": 2
}
